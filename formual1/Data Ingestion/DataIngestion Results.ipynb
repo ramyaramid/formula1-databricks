{
 "cells": [
  {
   "cell_type": "code",
   "execution_count": 0,
   "metadata": {
    "application/vnd.databricks.v1+cell": {
     "cellMetadata": {
      "byteLimit": 2048000,
      "rowLimit": 10000
     },
     "inputWidgets": {},
     "nuid": "c15ac6cd-be04-4671-a4b4-8f546fc0c9fe",
     "showTitle": false,
     "tableResultSettingsMap": {},
     "title": ""
    }
   },
   "outputs": [],
   "source": [
    "from pyspark.sql.types import StructType,StructField,IntegerType,StringType,DoubleType,FloatType"
   ]
  },
  {
   "cell_type": "code",
   "execution_count": 0,
   "metadata": {
    "application/vnd.databricks.v1+cell": {
     "cellMetadata": {
      "byteLimit": 2048000,
      "rowLimit": 10000
     },
     "inputWidgets": {},
     "nuid": "238ec653-67cf-45b2-bae3-b4b90b2e7cab",
     "showTitle": false,
     "tableResultSettingsMap": {},
     "title": ""
    }
   },
   "outputs": [],
   "source": [
    "dbutils.fs.ls(\"/mnt/storageformula1training/raw/results.json\")"
   ]
  },
  {
   "cell_type": "code",
   "execution_count": 0,
   "metadata": {
    "application/vnd.databricks.v1+cell": {
     "cellMetadata": {
      "byteLimit": 2048000,
      "rowLimit": 10000
     },
     "inputWidgets": {},
     "nuid": "0e7517ad-6d0c-4cda-9a90-71bca7f3b52e",
     "showTitle": false,
     "tableResultSettingsMap": {},
     "title": ""
    }
   },
   "outputs": [],
   "source": [
    "results_schema=StructType(fields=[StructField(\"resultId\",IntegerType(),True),\n",
    "                                  StructField(\"raceId\",IntegerType(),True),\n",
    "                                  StructField(\"driverId\",IntegerType(),True),\n",
    "                                  StructField(\"constructorId\",IntegerType(),True),\n",
    "                                  StructField(\"number\",IntegerType(),True),\n",
    "                                  StructField(\"grid\",IntegerType(),True),\n",
    "                                  StructField(\"position\",IntegerType(),True),\n",
    "                                  StructField(\"positionText\",StringType(),True),\n",
    "                                  StructField(\"positionOrder\",IntegerType(),True),\n",
    "                                  StructField(\"points\",FloatType(),True),\n",
    "                                  StructField(\"laps\",IntegerType(),True),\n",
    "                                  StructField(\"time\",StringType(),True),\n",
    "                                  StructField(\"milliseconds\",IntegerType(),True),\n",
    "                                  StructField(\"fastestLap\",IntegerType(),True),\n",
    "                                  StructField(\"rank\",IntegerType(),True),\n",
    "                                  StructField(\"fastestLapTime\",StringType(),True),\n",
    "                                  StructField(\"fastestLapSpeed\",StringType(),True),\n",
    "                                  StructField(\"statusId\",StringType(),True),\n",
    "                                  StructField(\"status\",StringType(),True)])"
   ]
  },
  {
   "cell_type": "code",
   "execution_count": 0,
   "metadata": {
    "application/vnd.databricks.v1+cell": {
     "cellMetadata": {
      "byteLimit": 2048000,
      "rowLimit": 10000
     },
     "inputWidgets": {},
     "nuid": "771be948-8df5-4276-b440-fd5b9f510c81",
     "showTitle": false,
     "tableResultSettingsMap": {},
     "title": ""
    }
   },
   "outputs": [],
   "source": [
    "results_df=spark.read.schema(results_schema).json(\"/mnt/storageformula1training/raw/results.json\")\n",
    "display(results_df)"
   ]
  },
  {
   "cell_type": "code",
   "execution_count": 0,
   "metadata": {
    "application/vnd.databricks.v1+cell": {
     "cellMetadata": {
      "byteLimit": 2048000,
      "rowLimit": 10000
     },
     "inputWidgets": {},
     "nuid": "5a1797be-4e50-48c2-a439-5b894d0b81ea",
     "showTitle": false,
     "tableResultSettingsMap": {},
     "title": ""
    }
   },
   "outputs": [],
   "source": [
    "from pyspark.sql.functions import col,current_timestamp\n",
    "results_df=results_df.withColumnRenamed(\"resultId\",\"result_id\")\\\n",
    "                    .withColumnRenamed(\"raceId\",\"race_id\")\\\n",
    "                    .withColumnRenamed(\"driverId\",\"driver_id\")\\\n",
    "                    .withColumnRenamed(\"constructorId\",\"constructor_id\")\\\n",
    "                    .withColumnRenamed(\"positionText\",\"position_text\")\\\n",
    "                    .withColumnRenamed(\"positionOrder\",\"position_order\")\\\n",
    "                    .withColumnRenamed(\"fastestLap\",\"fastest_lap\")\\\n",
    "                    .withColumnRenamed(\"fastestLapTime\",\"fastest_lap_time\")\\\n",
    "                    .withColumnRenamed(\"fastestLapSpeed\",\"fastest_lap_speed\")\\\n",
    "                    .withColumn(\"ingestion_time\",current_timestamp())\n",
    "           "
   ]
  },
  {
   "cell_type": "code",
   "execution_count": 0,
   "metadata": {
    "application/vnd.databricks.v1+cell": {
     "cellMetadata": {
      "byteLimit": 2048000,
      "rowLimit": 10000
     },
     "inputWidgets": {},
     "nuid": "bb973969-835f-407c-b547-c1ba025c47d3",
     "showTitle": false,
     "tableResultSettingsMap": {},
     "title": ""
    }
   },
   "outputs": [],
   "source": [
    "results_final_df=results_df.drop(\"statusId\")"
   ]
  },
  {
   "cell_type": "code",
   "execution_count": 0,
   "metadata": {
    "application/vnd.databricks.v1+cell": {
     "cellMetadata": {
      "byteLimit": 2048000,
      "rowLimit": 10000
     },
     "inputWidgets": {},
     "nuid": "b5cb92f9-dc77-42fb-b6d2-53376ecddefe",
     "showTitle": false,
     "tableResultSettingsMap": {},
     "title": ""
    }
   },
   "outputs": [],
   "source": [
    "results_final_df.write.mode(\"overwrite\").parquet(\"/mnt/storageformula1training/processed/results\")"
   ]
  },
  {
   "cell_type": "code",
   "execution_count": 0,
   "metadata": {
    "application/vnd.databricks.v1+cell": {
     "cellMetadata": {
      "byteLimit": 2048000,
      "rowLimit": 10000
     },
     "inputWidgets": {},
     "nuid": "0f352fd6-b6f1-4c32-a73c-ab409c9f7b03",
     "showTitle": false,
     "tableResultSettingsMap": {},
     "title": ""
    }
   },
   "outputs": [],
   "source": [
    "%fs\n",
    "ls /mnt/storageformula1training/processed/results"
   ]
  }
 ],
 "metadata": {
  "application/vnd.databricks.v1+notebook": {
   "computePreferences": null,
   "dashboards": [],
   "environmentMetadata": {
    "base_environment": "",
    "environment_version": "2"
   },
   "inputWidgetPreferences": null,
   "language": "python",
   "notebookMetadata": {
    "mostRecentlyExecutedCommandWithImplicitDF": {
     "commandId": 5826520735621906,
     "dataframes": [
      "_sqldf"
     ]
    },
    "pythonIndentUnit": 4
   },
   "notebookName": "DataIngestion Results",
   "widgets": {}
  },
  "language_info": {
   "name": "python"
  }
 },
 "nbformat": 4,
 "nbformat_minor": 0
}
